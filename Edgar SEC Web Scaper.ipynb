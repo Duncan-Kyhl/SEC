{
 "cells": [
  {
   "cell_type": "code",
   "execution_count": 3,
   "metadata": {},
   "outputs": [
    {
     "ename": "SyntaxError",
     "evalue": "invalid syntax (<ipython-input-3-9e55c36b76cc>, line 23)",
     "output_type": "error",
     "traceback": [
      "\u001b[0;36m  File \u001b[0;32m\"<ipython-input-3-9e55c36b76cc>\"\u001b[0;36m, line \u001b[0;32m23\u001b[0m\n\u001b[0;31m    https://www.sec.gov/ix?doc=/Archives/edgar/data/1326801/000132680120000084/fb-09302020x10q.htm\u001b[0m\n\u001b[0m          ^\u001b[0m\n\u001b[0;31mSyntaxError\u001b[0m\u001b[0;31m:\u001b[0m invalid syntax\n"
     ]
    }
   ],
   "source": [
    "#install Python Edgar library\n",
    "import edgar\n",
    "import pandas as pd\n",
    "\n",
    "selectedcompany = 'Facebook'\n",
    "selectedreport = '10-K'\n",
    "\n",
    "csv = pd.read_csv('2019-QTR4.tsv', sep='\\t',  lineterminator='\\n', names=None) \n",
    "\n",
    "csv.columns.values[0] = 'Item'\n",
    "\n",
    "companyreport = csv[(csv['Item'].str.contains(selectedcompany)) & (csv['Item'].str.contains(selectedreport))]\n",
    "\n",
    "Filing = companyreport['Item'].str.split('|')\n",
    "Filing = Filing.to_list()\n",
    "\n",
    "for item in Filing[0]:\n",
    "    \n",
    "    if 'html' in item:\n",
    "        report = item\n",
    "        \n",
    "url = 'https://www.sec.gov/Archives/' + report\n",
    "#https://www.sec.gov/ix?doc=/Archives/edgar/data/1652044/000165204419000032/goog10-qq32019.htm\n",
    "https://www.sec.gov/ix?doc=/Archives/edgar/data/1326801/000132680120000084/fb-09302020x10q.htm\n",
    "\n",
    "df = pd.read_html(url)\n",
    "document_index = df[0]\n",
    "document_index = document_index.dropna()\n",
    "\n",
    "document_name = document_index[document_index['Description'].str.contains(selectedreport)]\n",
    "document_name = document_name['Document'].str.split(' ')\n",
    "document_name = document_name[0][0]\n",
    "\n",
    "report_formatted = report.replace('-','').replace('index.html','')\n",
    "url = 'https://www.sec.gov/Archives/' + report_formatted + '/' + document_name\n",
    "\n",
    "\n",
    "df = pd.read_html(url)\n",
    "\n",
    "for item in df:\n",
    "    BS = (item[0].str.contains('Retained') | item[0].str.contains('Total Assets'))\n",
    "    if BS.any():\n",
    "        Balance_Sheet = item\n",
    "        \n",
    "\n",
    "Balance_Sheet = Balance_Sheet.iloc[2:,[0,2,6]]\n",
    "\n",
    "header = Balance_Sheet.iloc[0]\n",
    "Balance_Sheet = Balance_Sheet[1:]\n",
    "\n",
    "Balance_Sheet.columns = header\n",
    "\n",
    "\n",
    "Balance_Sheet.columns.values[0] = 'Item'\n",
    "Balance_Sheet = Balance_Sheet[Balance_Sheet['Item'].notna()]\n",
    "\n",
    "Balance_Sheet[Balance_Sheet.columns[1:]] = Balance_Sheet[Balance_Sheet.columns[1:]].astype(str)\n",
    "Balance_Sheet[Balance_Sheet.columns[1]] = Balance_Sheet[Balance_Sheet.columns[1]].map(lambda x: x.replace('(','-'))\n",
    "Balance_Sheet[Balance_Sheet.columns[2]] = Balance_Sheet[Balance_Sheet.columns[2]].map(lambda x: x.replace('(','-'))\n",
    "\n",
    "Balance_Sheet[Balance_Sheet.columns[1]] = Balance_Sheet[Balance_Sheet.columns[1]].map(lambda x: x.replace(',',''))\n",
    "Balance_Sheet[Balance_Sheet.columns[2]] = Balance_Sheet[Balance_Sheet.columns[2]].map(lambda x: x.replace(',',''))\n",
    "\n",
    "Balance_Sheet[Balance_Sheet.columns[1]] = Balance_Sheet[Balance_Sheet.columns[1]].map(lambda x: x.replace('—','0'))\n",
    "Balance_Sheet[Balance_Sheet.columns[2]] = Balance_Sheet[Balance_Sheet.columns[2]].map(lambda x: x.replace('—','0'))\n",
    "\n",
    "\n",
    "\n",
    "Balance_Sheet[Balance_Sheet.columns[1:]] = Balance_Sheet[Balance_Sheet.columns[1:]].astype(float)\n",
    "\n",
    "Balance_Sheet"
   ]
  },
  {
   "cell_type": "code",
   "execution_count": null,
   "metadata": {},
   "outputs": [],
   "source": []
  }
 ],
 "metadata": {
  "kernelspec": {
   "display_name": "Python 3",
   "language": "python",
   "name": "python3"
  },
  "language_info": {
   "codemirror_mode": {
    "name": "ipython",
    "version": 3
   },
   "file_extension": ".py",
   "mimetype": "text/x-python",
   "name": "python",
   "nbconvert_exporter": "python",
   "pygments_lexer": "ipython3",
   "version": "3.8.3"
  }
 },
 "nbformat": 4,
 "nbformat_minor": 4
}
